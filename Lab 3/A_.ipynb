{
  "cells": [
    {
      "cell_type": "markdown",
      "metadata": {
        "id": "eXaGC5xFNvoA"
      },
      "source": [
        "# **Dijkstra Implementation**"
      ]
    },
    {
      "cell_type": "code",
      "execution_count": null,
      "metadata": {
        "colab": {
          "base_uri": "https://localhost:8080/"
        },
        "id": "vlx5XEWhN1_l",
        "outputId": "5e995cd0-8735-47d6-f904-f19670e1cb01"
      },
      "outputs": [
        {
          "name": "stdout",
          "output_type": "stream",
          "text": [
            "Shortest paths from A: {'A': 0, 'B': 1, 'C': 3, 'D': 6}\n"
          ]
        }
      ],
      "source": [
        "import heapq\n",
        "\n",
        "def dijkstra(graph, start):\n",
        "    pq = []\n",
        "    heapq.heappush(pq, (0, start))\n",
        "\n",
        "    distances = {node: float('inf') for node in graph}\n",
        "    distances[start] = 0\n",
        "\n",
        "    visited = set()\n",
        "\n",
        "    while pq:\n",
        "        current_distance, current_node = heapq.heappop(pq)\n",
        "\n",
        "        if current_node in visited:\n",
        "            continue\n",
        "        visited.add(current_node)\n",
        "\n",
        "        for neighbor, weight in graph[current_node].items():\n",
        "            distance = current_distance + weight\n",
        "\n",
        "            if distance < distances[neighbor]:\n",
        "                distances[neighbor] = distance\n",
        "                heapq.heappush(pq, (distance, neighbor))\n",
        "\n",
        "    return distances\n",
        "\n",
        "graph = {\n",
        "    'A': {'B': 1, 'C': 4},\n",
        "    'B': {'A': 1, 'C': 2, 'D': 6},\n",
        "    'C': {'A': 4, 'B': 2, 'D': 3},\n",
        "    'D': {'B': 6, 'C': 3}\n",
        "}\n",
        "\n",
        "start_node = 'A'\n",
        "shortest_paths = dijkstra(graph, start_node)\n",
        "print(f\"Shortest paths from {start_node}: {shortest_paths}\")"
      ]
    },
    {
      "cell_type": "markdown",
      "metadata": {
        "id": "Wk9WbbZmRmkT"
      },
      "source": [
        "# A* Implementation"
      ]
    },
    {
      "cell_type": "code",
      "execution_count": null,
      "metadata": {
        "colab": {
          "base_uri": "https://localhost:8080/"
        },
        "id": "gY5SZYsdR0SE",
        "outputId": "ad36043b-8b4b-4f1c-84c1-99bc829616a1"
      },
      "outputs": [
        {
          "name": "stdout",
          "output_type": "stream",
          "text": [
            "Shortest path from A to D: ['A', 'B', 'C', 'D']\n"
          ]
        }
      ],
      "source": [
        "import heapq\n",
        "\n",
        "def a_star(graph, start, goal, heuristic_function):\n",
        "    pq = []\n",
        "    heapq.heappush(pq, (0, start))\n",
        "\n",
        "    distances = {node: float('inf') for node in graph}\n",
        "    distances[start] = 0\n",
        "\n",
        "    came_from = {}\n",
        "\n",
        "    while pq:\n",
        "        _, current_node = heapq.heappop(pq)\n",
        "\n",
        "        for neighbor, weight in graph[current_node].items():\n",
        "            tentative_distance = distances[current_node] + weight\n",
        "\n",
        "            if tentative_distance < distances[neighbor]:\n",
        "\n",
        "                distances[neighbor] = tentative_distance\n",
        "\n",
        "                f_cost = tentative_distance + heuristic_function(neighbor, goal)\n",
        "\n",
        "                came_from[neighbor] = current_node\n",
        "\n",
        "                heapq.heappush(pq, (f_cost, neighbor))\n",
        "\n",
        "    return came_from\n",
        "\n",
        "def reconstruct_path(came_from, current_node):\n",
        "    path = [current_node]\n",
        "    while current_node in came_from:\n",
        "        current_node = came_from[current_node]\n",
        "        path.append(current_node)\n",
        "    path.reverse()\n",
        "    return path\n",
        "\n",
        "def heuristic_function(node, goal):\n",
        "    heuristic_map = {\n",
        "        'A': {'D': 7},\n",
        "        'B': {'D': 6},\n",
        "        'C': {'D': 2},\n",
        "        'D': {'D': 0}\n",
        "    }\n",
        "    return heuristic_map.get(node, {}).get(goal, 0)\n",
        "\n",
        "graph = {\n",
        "    'A': {'B': 1, 'C': 4},\n",
        "    'B': {'A': 1, 'C': 2, 'D': 6},\n",
        "    'C': {'A': 4, 'B': 2, 'D': 3},\n",
        "    'D': {'B': 6, 'C': 3}\n",
        "}\n",
        "\n",
        "start_node = 'A'\n",
        "goal_node = 'D'\n",
        "\n",
        "came_from = a_star(graph, start_node, goal_node, heuristic_function)\n",
        "shortest_path=reconstruct_path(came_from,goal_node)\n",
        "print(f\"Shortest path from {start_node} to {goal_node}: {shortest_path}\")"
      ]
    }
  ],
  "metadata": {
    "colab": {
      "provenance": []
    },
    "kernelspec": {
      "display_name": "Python 3",
      "name": "python3"
    },
    "language_info": {
      "name": "python"
    }
  },
  "nbformat": 4,
  "nbformat_minor": 0
}

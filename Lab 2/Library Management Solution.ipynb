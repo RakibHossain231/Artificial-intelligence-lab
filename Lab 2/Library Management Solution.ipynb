{
 "cells": [
  {
   "cell_type": "code",
   "execution_count": 19,
   "id": "8a0dd352-a553-4d21-8466-87cec351db4d",
   "metadata": {},
   "outputs": [
    {
     "name": "stdout",
     "output_type": "stream",
     "text": [
      "title:b\n",
      "author:y\n",
      "isbn:2\n"
     ]
    }
   ],
   "source": [
    "class Book:\n",
    "    def __init__(self,title,author,isbn):\n",
    "        self.title=title\n",
    "        self.author=author\n",
    "        self.isbn=isbn\n",
    "    def __str__(self):\n",
    "        return f\"title:{self.title}\\nauthor:{self.author}\\nisbn:{self.isbn}\"\n",
    "class Library:\n",
    "    def __init__(self):\n",
    "        self.books=dict()\n",
    "    def addBook(self,book):\n",
    "        self.books[book.isbn]=book\n",
    "    def removeBook(self,isbn):\n",
    "        self.books.pop(isbn)\n",
    "    def searchByTitle(self,title):\n",
    "        for key in self.books:\n",
    "            tempTitle=self.books[key].title\n",
    "            if(title==tempTitle):\n",
    "                return self.books[key]\n",
    "    def displayBooks(self):\n",
    "        for key in self.books:\n",
    "            tempBook=self.books[key]\n",
    "            print(tempBook)\n",
    "            print(\"\")\n",
    "            \n",
    "book1=Book(\"a\",\"x\",\"1\")\n",
    "book2=Book(\"b\",\"y\",\"2\")\n",
    "book3=Book(\"c\",\"z\",\"3\")\n",
    "myLibrary=Library()\n",
    "myLibrary.addBook(book1)\n",
    "myLibrary.addBook(book2)\n",
    "myLibrary.addBook(book3)\n",
    "myLibrary.displayBooks()\n",
    "\n",
    "tempBook = myLibrary.searchByTitle(\"b\")\n",
    "print(tempBook)\n"
   ]
  },
  {
   "cell_type": "code",
   "execution_count": null,
   "id": "4ddf8e73-1f80-4303-9e25-870f8344e4dc",
   "metadata": {},
   "outputs": [],
   "source": []
  }
 ],
 "metadata": {
  "kernelspec": {
   "display_name": "Python 3 (ipykernel)",
   "language": "python",
   "name": "python3"
  },
  "language_info": {
   "codemirror_mode": {
    "name": "ipython",
    "version": 3
   },
   "file_extension": ".py",
   "mimetype": "text/x-python",
   "name": "python",
   "nbconvert_exporter": "python",
   "pygments_lexer": "ipython3",
   "version": "3.12.7"
  }
 },
 "nbformat": 4,
 "nbformat_minor": 5
}

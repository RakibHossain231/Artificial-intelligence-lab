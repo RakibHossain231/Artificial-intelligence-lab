{
 "cells": [
  {
   "cell_type": "markdown",
   "metadata": {},
   "source": [
    "## Basic Python Syntax"
   ]
  },
  {
   "cell_type": "markdown",
   "metadata": {},
   "source": [
    "### List"
   ]
  },
  {
   "cell_type": "code",
   "execution_count": null,
   "metadata": {},
   "outputs": [],
   "source": [
    "lst=[1,2,3,4]\n",
    "lst.append(5)\n",
    "print(lst)\n",
    "lst.extend([6,7,8])\n",
    "print(lst)\n",
    "lst.pop()"
   ]
  },
  {
   "cell_type": "code",
   "execution_count": null,
   "metadata": {},
   "outputs": [],
   "source": [
    "print(sum(lst))\n",
    "lst.pop()\n",
    "print(lst)\n",
    "# lst.pop(3)\n",
    "# print(lst)"
   ]
  },
  {
   "cell_type": "code",
   "execution_count": null,
   "metadata": {},
   "outputs": [],
   "source": [
    "lst2=[1,1,3,4,4,6,7,8,9,10]\n",
    "print(lst2.count(1))\n",
    "print(lst.index(1))\n",
    "print(lst*2)"
   ]
  },
  {
   "cell_type": "markdown",
   "metadata": {},
   "source": [
    "### Sets"
   ]
  },
  {
   "cell_type": "code",
   "execution_count": null,
   "metadata": {},
   "outputs": [],
   "source": [
    "# No duplicates allowed\n",
    "set_var=set(lst2)\n",
    "print(set_var)\n",
    "set_var.add(2)\n",
    "set_var.remove(2)\n",
    "print(set_var)\n",
    "# set_var[1] or set_var[0] not allowed"
   ]
  },
  {
   "cell_type": "code",
   "execution_count": null,
   "metadata": {},
   "outputs": [],
   "source": [
    "set1=set(lst)\n",
    "set2=set(lst2)\n",
    "set3=set1.intersection(set2)\n",
    "set4=set1.union(set2)\n",
    "print(set3)\n",
    "print(set4)"
   ]
  },
  {
   "cell_type": "markdown",
   "metadata": {},
   "source": [
    "### Dictionary"
   ]
  },
  {
   "cell_type": "code",
   "execution_count": null,
   "metadata": {},
   "outputs": [],
   "source": [
    "dictionary = {'CSE 101':'Structured Programming Language', 'CSE 107':'Object Oriented Programming', 'CSE 105':'Discrete Mathematics'}\n",
    "print(dictionary)"
   ]
  },
  {
   "cell_type": "code",
   "execution_count": null,
   "metadata": {},
   "outputs": [],
   "source": [
    "for key in dictionary.keys():\n",
    "    print(key)\n",
    "\n",
    "for value in dictionary.values():\n",
    "    print(value)\n",
    "\n",
    "for item in dictionary.items():\n",
    "    print(item)\n",
    "\n",
    "for key,value in dictionary.items():\n",
    "    print(key,value)\n"
   ]
  },
  {
   "cell_type": "markdown",
   "metadata": {},
   "source": [
    "### Functions in Python"
   ]
  },
  {
   "cell_type": "code",
   "execution_count": null,
   "metadata": {},
   "outputs": [],
   "source": []
  },
  {
   "cell_type": "markdown",
   "metadata": {},
   "source": [
    "## Built-in Libaraies"
   ]
  },
  {
   "cell_type": "markdown",
   "metadata": {},
   "source": [
    "### Numpy"
   ]
  },
  {
   "cell_type": "code",
   "execution_count": null,
   "metadata": {},
   "outputs": [],
   "source": [
    "import numpy as np\n",
    "a=np.array([1,2,3,4])\n",
    "print(a)\n",
    "print(type(a))\n",
    "print(a.shape)\n",
    "print(a.reshape(-1,1).shape)"
   ]
  },
  {
   "cell_type": "code",
   "execution_count": null,
   "metadata": {},
   "outputs": [],
   "source": [
    "b=np.array([5,6,7,8])\n",
    "c=np.array([9,10,11,12])\n",
    "array = np.array([a,b,c])\n",
    "print(array)\n",
    "print(array.shape)\n",
    "print(array.reshape(4,3))\n",
    "print(array[-2:,-2:])"
   ]
  },
  {
   "cell_type": "code",
   "execution_count": null,
   "metadata": {},
   "outputs": [],
   "source": [
    "# generate random numbers within a range\n",
    "arr = np.arange(0,10,step=2)\n",
    "print(arr)\n",
    "np.linspace(0,10,50) # 50 evenly spaced numbers between 0 and 10"
   ]
  },
  {
   "cell_type": "code",
   "execution_count": 28,
   "metadata": {},
   "outputs": [
    {
     "data": {
      "application/javascript": "\n        if (window._pyforest_update_imports_cell) { window._pyforest_update_imports_cell('import numpy as np'); }\n    ",
      "text/plain": [
       "<IPython.core.display.Javascript object>"
      ]
     },
     "metadata": {},
     "output_type": "display_data"
    },
    {
     "name": "stdout",
     "output_type": "stream",
     "text": [
      "[0 1 2 3 4 5 6 7 8 9]\n",
      "[100 100 100 100 100   5   6   7   8   9]\n"
     ]
    },
    {
     "data": {
      "text/plain": [
       "array([6, 7, 8, 9])"
      ]
     },
     "execution_count": 28,
     "metadata": {},
     "output_type": "execute_result"
    }
   ],
   "source": [
    "arr1 = np.arange(0,10)\n",
    "# copy array\n",
    "arr2 = arr1.copy()\n",
    "arr2[0:5]=100\n",
    "print(arr1)\n",
    "print(arr2)\n",
    "# conditional selection\n",
    "arr1[arr1>5]"
   ]
  },
  {
   "cell_type": "code",
   "execution_count": null,
   "metadata": {},
   "outputs": [],
   "source": [
    "print(np.ones((2,3),dtype=int))\n",
    "print(np.random.rand(2,3)) # uniform distribution\n",
    "print(np.random.randn(2,3)) # normal distribution\n",
    "print(np.random.randint(0,100,10)) # 10 random integers between 0 and 100\n",
    "print(np.random.random_sample((1,5))) # 5 random numbers between 0 and 1"
   ]
  },
  {
   "cell_type": "markdown",
   "metadata": {},
   "source": [
    "### Pandas"
   ]
  },
  {
   "cell_type": "code",
   "execution_count": null,
   "metadata": {},
   "outputs": [],
   "source": [
    "import pandas as pd\n",
    "\n",
    "df = pd.DataFrame(np.arange(0,20).reshape(5,4),index=['A','B','C','D','E'],columns=['W','X','Y','Z'])\n",
    "df.head()"
   ]
  },
  {
   "cell_type": "code",
   "execution_count": null,
   "metadata": {},
   "outputs": [],
   "source": [
    "## Accessing the elements\n",
    "## 1. loc 2. iloc\n",
    "print(df.loc['A'])\n",
    "print(type(df.loc['A']))\n",
    "print(df.iloc[:2,:2])\n",
    "print(df.iloc[1:3,1:3])"
   ]
  },
  {
   "cell_type": "code",
   "execution_count": null,
   "metadata": {},
   "outputs": [],
   "source": [
    "# convert dataframes to numpy array\n",
    "print(df.iloc[:,:].values)\n",
    "print(df.isnull().sum())\n",
    "print(df['W'].value_counts())\n",
    "print(df['W'].unique())"
   ]
  },
  {
   "cell_type": "code",
   "execution_count": null,
   "metadata": {},
   "outputs": [],
   "source": [
    "# read csv file\n",
    "df = pd.read_csv('mercedesbenz.csv')\n",
    "df.head()\n",
    "df.info()\n",
    "df.describe()"
   ]
  },
  {
   "cell_type": "code",
   "execution_count": null,
   "metadata": {},
   "outputs": [],
   "source": [
    "print(df['X0'].value_counts())\n",
    "print(df[df['y']>100])"
   ]
  },
  {
   "cell_type": "markdown",
   "metadata": {},
   "source": [
    "#### Working with CSV"
   ]
  },
  {
   "cell_type": "code",
   "execution_count": null,
   "metadata": {},
   "outputs": [],
   "source": [
    "# create csv from string\n",
    "from io import StringIO, BytesIO\n",
    "data = ('col1,col2,col3\\n'\n",
    "        'x,y,1\\n'\n",
    "        'a,b,2\\n'\n",
    "        'c,d,3')\n",
    "df = pd.read_csv(StringIO(data))\n",
    "print(df.head())\n",
    "df2 = pd.read_csv(StringIO(data),usecols=['col1','col3'])\n",
    "print(df2.head())\n",
    "df.to_csv('Test.csv')"
   ]
  },
  {
   "cell_type": "code",
   "execution_count": null,
   "metadata": {},
   "outputs": [],
   "source": [
    "# Specifying columns data types\n",
    "data = ('a,b,c,d\\n'\n",
    "        '1,2,3,4\\n'\n",
    "        '5,6,7,8\\n'\n",
    "        '9,10,11')\n",
    "df = pd.read_csv(StringIO(data),dtype=object)\n",
    "print(df.head())\n",
    "print(df['a'][1])\n",
    "df = pd.read_csv(StringIO(data),dtype={'b':int,'c':float,'a':'Int64'})\n",
    "print(df.head())\n",
    "print(df.dtypes)"
   ]
  },
  {
   "cell_type": "code",
   "execution_count": null,
   "metadata": {},
   "outputs": [],
   "source": [
    "# Index columns and training delimiters\n",
    "data = ('index,a,b,c\\n'\n",
    "        '4,apple,bat,5.7\\n'\n",
    "        '8,orange,cow,10')\n",
    "df = pd.read_csv(StringIO(data))\n",
    "print(df.head())\n",
    "df = pd.read_csv(StringIO(data),index_col=0)\n",
    "print(df.head())\n",
    "data = ('a,b,c\\n'\n",
    "        '4,apple,bat,\\n'\n",
    "        '8,orange,cow,')\n",
    "df = pd.read_csv(StringIO(data),index_col=False)\n",
    "print(df.head())\n",
    "\n",
    "# Combining usecols and index_col\n",
    "data = ('a,b,c\\n'\n",
    "        '4,apple,bat,\\n'\n",
    "        '8,orange,cow,')\n",
    "df = pd.read_csv(StringIO(data),usecols=['b','c'],index_col=False)\n",
    "print(df.head())\n",
    "\n",
    "# Quoting and Escape characters. Very useful in NLP\n",
    "data = 'a,b\\n\"hello, \\\\\"Bob\\\\\", nice to see you\",5'\n",
    "df = pd.read_csv(StringIO(data),escapechar='\\\\')\n",
    "print(df.head())"
   ]
  },
  {
   "cell_type": "markdown",
   "metadata": {},
   "source": [
    "#### Reading JSON"
   ]
  },
  {
   "cell_type": "code",
   "execution_count": null,
   "metadata": {},
   "outputs": [],
   "source": [
    "data='{ \"employee_name\": \"James\", \"email\": \"james@gmail.com\", \"job_profile\": [{\"title1\":\"Team Lead\",\"title2\":\"Sr. Developer\"}]}'\n",
    "df1 = pd.read_json(data)\n",
    "df1.head()\n",
    "df2 = pd.read_csv('https://archive.ics.uci.edu/ml/machine-learning-databases/wine/wine.data',header=None)\n",
    "df2.head()\n",
    "\n",
    "# convert json to csv\n",
    "df1.to_csv('employee.csv')\n",
    "df2.to_csv('wine.csv')"
   ]
  },
  {
   "cell_type": "code",
   "execution_count": null,
   "metadata": {},
   "outputs": [],
   "source": [
    "# convert json to different json formats\n",
    "# df1.to_json()\n",
    "# df1.to_json(orient=\"index\")\n",
    "df1.to_json(orient=\"records\")\n",
    "df2.to_json(orient=\"records\",lines=True)"
   ]
  },
  {
   "cell_type": "markdown",
   "metadata": {},
   "source": [
    "#### Reading HTML"
   ]
  },
  {
   "cell_type": "code",
   "execution_count": null,
   "metadata": {},
   "outputs": [],
   "source": [
    "url_mcc = 'https://en.wikipedia.org/wiki/Mobile_country_code'\n",
    "dfs = pd.read_html(url_mcc,match='Country',header=0)\n",
    "dfs[0]"
   ]
  },
  {
   "cell_type": "markdown",
   "metadata": {},
   "source": [
    "#### Reading Excel"
   ]
  },
  {
   "cell_type": "code",
   "execution_count": null,
   "metadata": {},
   "outputs": [],
   "source": [
    "fw = pd.read_excel('Farewell List.xlsx',header=0)\n",
    "fw"
   ]
  },
  {
   "cell_type": "markdown",
   "metadata": {},
   "source": [
    "#### Pickling"
   ]
  },
  {
   "cell_type": "code",
   "execution_count": null,
   "metadata": {},
   "outputs": [],
   "source": [
    "fw.to_pickle('fw_pickle')\n",
    "fw_pickle = pd.read_pickle('fw_pickle')\n",
    "fw.head()"
   ]
  },
  {
   "cell_type": "markdown",
   "metadata": {},
   "source": [
    "### Matplotlib"
   ]
  },
  {
   "cell_type": "code",
   "execution_count": null,
   "metadata": {},
   "outputs": [],
   "source": [
    "# Matplotlib\n",
    "import matplotlib.pyplot as plt\n",
    "\n",
    "x = np.arange(0,10)\n",
    "y = np.arange(11,21)\n",
    "\n",
    "plt.scatter(x,y,c='r')\n",
    "plt.xlabel('X axis')\n",
    "plt.ylabel('Y axis')\n",
    "plt.title('2D Graph')\n",
    "\n",
    "y1 = x*x\n",
    "plt.plot(x,y,'bo--',linewidth=2,markersize=8)\n",
    "plt.legend(['X','X^2'])"
   ]
  },
  {
   "cell_type": "code",
   "execution_count": null,
   "metadata": {},
   "outputs": [],
   "source": [
    "## Creating subplots\n",
    "plt.subplot(2,2,1)\n",
    "plt.plot(x,y,'ro-')\n",
    "plt.subplot(2,2,2)\n",
    "plt.plot(x,y,'g*--')"
   ]
  },
  {
   "cell_type": "code",
   "execution_count": null,
   "metadata": {},
   "outputs": [],
   "source": [
    "## Compute x and y coordinates for points on sine and cosine curves\n",
    "x = np.arange(0,4*np.pi,0.1)\n",
    "y_sin = np.sin(x)\n",
    "y_cos = np.cos(x)\n",
    "plt.subplot(2,1,1)\n",
    "plt.plot(x,y_sin,'r-')\n",
    "plt.title('Sine')\n",
    "plt.subplot(2,1,2)\n",
    "plt.plot(x,y_cos,'g-')\n",
    "plt.title('Cosine')"
   ]
  },
  {
   "cell_type": "code",
   "execution_count": null,
   "metadata": {},
   "outputs": [],
   "source": [
    "### Bar plot\n",
    "x = [2,8,10]\n",
    "y = [11,16,9]\n",
    "\n",
    "x2 = [3,9,11]\n",
    "y2 = [6,15,7]\n",
    "plt.bar(x,y)\n",
    "plt.bar(x2,y2,color='g')\n",
    "plt.title('Bar Graph')\n",
    "plt.xlabel('X axis')\n",
    "plt.ylabel('Y axis')"
   ]
  },
  {
   "cell_type": "code",
   "execution_count": null,
   "metadata": {},
   "outputs": [],
   "source": [
    "### Histograms\n",
    "a = np.array([22,87,5,43,56,73,55,54,11,20,51,5,79,31,27])\n",
    "plt.hist(a,bins=20)\n",
    "plt.title('Histogram')\n",
    "plt.xlabel('X axis')\n",
    "plt.ylabel('Y axis') "
   ]
  },
  {
   "cell_type": "code",
   "execution_count": null,
   "metadata": {},
   "outputs": [],
   "source": [
    "### Box plot\n",
    "data = [np.random.normal(0,std,100) for std in range(1,4)]\n",
    "plt.boxplot(data,vert=True,patch_artist=True)\n",
    "plt.title('Box Plot')"
   ]
  },
  {
   "cell_type": "code",
   "execution_count": null,
   "metadata": {},
   "outputs": [],
   "source": [
    "### Pie chart\n",
    "labels = 'Python','C++','Ruby','Java'\n",
    "sizes = [215,130,245,210]\n",
    "colors = ['gold','yellowgreen','lightcoral','lightskyblue']\n",
    "explode = (0.05,0.05,0.05,0.05)\n",
    "plt.pie(sizes,explode=explode,labels=labels,colors=colors,autopct='%1.1f%%',shadow=True)\n",
    "plt.axis('equal')\n"
   ]
  },
  {
   "cell_type": "markdown",
   "metadata": {},
   "source": [
    "### Seaborn"
   ]
  },
  {
   "cell_type": "code",
   "execution_count": null,
   "metadata": {},
   "outputs": [],
   "source": [
    "import seaborn as sns\n",
    "\n",
    "df = sns.load_dataset('tips')\n",
    "df.head()"
   ]
  },
  {
   "cell_type": "code",
   "execution_count": null,
   "metadata": {},
   "outputs": [],
   "source": [
    "### Correlation with Heatmap\n",
    "print(df.corr())\n",
    "sns.heatmap(df.corr())"
   ]
  },
  {
   "cell_type": "markdown",
   "metadata": {},
   "source": [
    "#### Joint plot: Univariate Analysis\n"
   ]
  },
  {
   "cell_type": "code",
   "execution_count": null,
   "metadata": {},
   "outputs": [],
   "source": [
    "sns.jointplot(x='tip',y='total_bill',data=df,kind='hex')\n",
    "sns.jointplot(x='tip',y='total_bill',data=df,kind='reg')"
   ]
  },
  {
   "cell_type": "markdown",
   "metadata": {},
   "source": [
    "#### Pair plot: Bivariate analysis\n"
   ]
  },
  {
   "cell_type": "code",
   "execution_count": null,
   "metadata": {},
   "outputs": [],
   "source": [
    "sns.pairplot(df)\n",
    "sns.pairplot(df,hue='sex')"
   ]
  },
  {
   "cell_type": "markdown",
   "metadata": {},
   "source": [
    "#### Dist plot: helps to check the distribution of the columns feature"
   ]
  },
  {
   "cell_type": "code",
   "execution_count": null,
   "metadata": {},
   "outputs": [],
   "source": [
    "sns.displot(df['tip'],kde=True)\n",
    "sns.displot(df['tip'],kde=False,bins=10)\n"
   ]
  },
  {
   "cell_type": "markdown",
   "metadata": {},
   "source": [
    "#### Categorical Plots"
   ]
  },
  {
   "cell_type": "code",
   "execution_count": null,
   "metadata": {},
   "outputs": [],
   "source": [
    "# count plot: show the counts of observations in each categorical bin using bars.\n",
    "sns.countplot(x='sex',hue='smoker',data=df)\n",
    "# sns.countplot(x='day',data=df)"
   ]
  },
  {
   "cell_type": "code",
   "execution_count": null,
   "metadata": {},
   "outputs": [],
   "source": [
    "### Bar plot\n",
    "sns.barplot(data=df,x='day',y='tip')"
   ]
  },
  {
   "cell_type": "code",
   "execution_count": null,
   "metadata": {},
   "outputs": [],
   "source": [
    "### Box plot\n",
    "sns.boxplot(data=df,x='day',y='tip',hue='smoker')"
   ]
  },
  {
   "cell_type": "code",
   "execution_count": null,
   "metadata": {},
   "outputs": [],
   "source": [
    "### Violin plot: combination of boxplot and kde plot\n",
    "sns.violinplot(data=df,x='day',y='tip',hue='smoker',split=True)"
   ]
  },
  {
   "cell_type": "markdown",
   "metadata": {},
   "source": [
    "### Practice"
   ]
  },
  {
   "cell_type": "code",
   "execution_count": null,
   "metadata": {},
   "outputs": [],
   "source": [
    "iris_df = sns.load_dataset('iris')\n",
    "iris_df.head()\n",
    "# print(iris_df['species'].value_counts())"
   ]
  },
  {
   "cell_type": "code",
   "execution_count": null,
   "metadata": {},
   "outputs": [],
   "source": [
    "print(iris_df.corr())\n",
    "sns.heatmap(iris_df.corr(),annot=True)"
   ]
  },
  {
   "cell_type": "code",
   "execution_count": null,
   "metadata": {},
   "outputs": [],
   "source": [
    "sns.jointplot(x='petal_length',y='petal_width',data=iris_df,kind='reg')\n",
    "sns.jointplot(x='petal_length',y='petal_width',data=iris_df,kind='hex')"
   ]
  },
  {
   "cell_type": "code",
   "execution_count": null,
   "metadata": {},
   "outputs": [],
   "source": [
    "sns.pairplot(iris_df,hue='species')"
   ]
  },
  {
   "cell_type": "code",
   "execution_count": null,
   "metadata": {},
   "outputs": [],
   "source": [
    "sns.displot(iris_df['petal_length'],kde=True)"
   ]
  }
 ],
 "metadata": {
  "kernelspec": {
   "display_name": "Python 3",
   "language": "python",
   "name": "python3"
  },
  "language_info": {
   "codemirror_mode": {
    "name": "ipython",
    "version": 3
   },
   "file_extension": ".py",
   "mimetype": "text/x-python",
   "name": "python",
   "nbconvert_exporter": "python",
   "pygments_lexer": "ipython3",
   "version": "3.10.11"
  }
 },
 "nbformat": 4,
 "nbformat_minor": 2
}
